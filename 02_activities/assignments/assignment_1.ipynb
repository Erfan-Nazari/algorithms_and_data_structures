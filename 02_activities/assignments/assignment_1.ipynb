{
 "cells": [
  {
   "cell_type": "markdown",
   "metadata": {},
   "source": [
    "# Coding Problems\n",
    "\n",
    "## Objective\n",
    "\n",
    "This assignment aims to demonstrate how to study a data structures or algorithms question in depth to prepare for an industry coding interview. Leetcode is a popular coding practice site that many use to practice for technical interviews. Like behavioral interviews, it's important to practice and keep your skills sharp.\n",
    "\n",
    "## Group Size\n",
    "\n",
    "Please complete this individually.\n",
    "\n",
    "## Part 1:\n",
    "\n",
    "_*You will be assigned one of three problems based of your first name. Execute the code below, and that will tell you your assigned problem. Include the output as part of your submission (do not clear the output). The problems are based-off problems from Leetcode.*_\n"
   ]
  },
  {
   "cell_type": "code",
   "execution_count": 1,
   "metadata": {},
   "outputs": [
    {
     "name": "stdout",
     "output_type": "stream",
     "text": [
      "2\n"
     ]
    }
   ],
   "source": [
    "print((hash('Erfan') % 3) + 1)"
   ]
  },
  {
   "cell_type": "markdown",
   "metadata": {},
   "source": [
    "<details>\n",
    "  <summary>Question 1</summary>\n",
    "\n",
    "  # Question One: Check Duplicates in Tree\n",
    "\n",
    "  Given the `root` of a binary tree, check whether it is contains a duplicate value. If a duplicate exists, return the duplicate value. If there are multiple duplicates, return the one with the closest distance to the root. If no duplicate exists, return -1.\n",
    "\n",
    "  ## Examples\n",
    "\n",
    "  ### Example 1\n",
    "\n",
    "  ![](./images/q1_ex1.png)\n",
    "\n",
    "  Input: `root = [1, 2, 2, 3, 5, 6, 7]` *What traversal method is this?*\n",
    "\n",
    "  Output: 2\n",
    "\n",
    "  ### Example 2\n",
    "\n",
    "  ![](./images/q1_ex2.png)\n",
    "\n",
    "  Input: `root = [1, 10, 2, 3, 10, 12, 12]`\n",
    "\n",
    "  Output: 10\n",
    "\n",
    "  ### Example 3\n",
    "\n",
    "  ![](./images/q1_ex3.png)\n",
    "\n",
    "  Input: `root = [10, 9, 8, 7]`\n",
    "\n",
    "  Output: -1\n",
    "\n",
    "</details>\n",
    "\n",
    "#### Starter Code for Question 1"
   ]
  },
  {
   "cell_type": "code",
   "execution_count": 2,
   "metadata": {},
   "outputs": [],
   "source": [
    "from collections import deque\n",
    "\n",
    "#Definition for a binary tree node.\n",
    "class TreeNode(object):\n",
    "    def __init__(self, val = 0, left = None, right = None):\n",
    "        self.val = val\n",
    "        self.left = left\n",
    "        self.right = right\n",
    "\n",
    "#Breadth First Search (BFS) of the tree. Storing the value of the node and the index of the node in BFS (the root is index 0).\n",
    "def bfs(root):\n",
    "    bfs_lst = []\n",
    "    queue = deque()\n",
    "    if root:\n",
    "        queue.append(root)\n",
    "    while queue:\n",
    "        current_vertex = queue.popleft()\n",
    "        bfs_lst.append((current_vertex.val, len(bfs_lst)))\n",
    "        if current_vertex.left:\n",
    "            queue.append(current_vertex.left)\n",
    "        if current_vertex.right:\n",
    "            queue.append(current_vertex.right)\n",
    "    return bfs_lst\n",
    "\n",
    "#The merge function of given two sorted list used in the merge sort.\n",
    "def merge(lst1, lst2):\n",
    "    merged = []\n",
    "    cursor1 = 0\n",
    "    cursor2 = 0\n",
    "    while cursor1 < len(lst1) and cursor2 < len(lst2):\n",
    "        if lst1[cursor1][0] <= lst2[cursor2][0]:\n",
    "            merged.append(lst1[cursor1])\n",
    "            cursor1 += 1\n",
    "        else:\n",
    "            merged.append(lst2[cursor2])\n",
    "            cursor2 += 1\n",
    "    if cursor1 < len(lst1):\n",
    "        merged.extend(lst1[cursor1:])\n",
    "    elif cursor2 < len(lst2):\n",
    "        merged.extend(lst2[cursor2:])\n",
    "    return merged    \n",
    "\n",
    "#Merge sort of BFS list. We could use python sort function to sort the list using tim sort which is generally faster than merge sort, \n",
    "# but I wanted to implement everything explicitly and not use built-in functions so I used merge sort.\n",
    "def merge_sort(lst):\n",
    "    if len(lst) <= 1:\n",
    "        return lst\n",
    "    else:\n",
    "        midpoint = len(lst) // 2\n",
    "        return merge(merge_sort(lst[:midpoint]), merge_sort(lst[midpoint:]))\n",
    "\n",
    "#If in the sorted BFS list there are two consecutive eqaual values, then we have duplicate.\n",
    "#But since we only want the duplicated value that is closest to the root, we only update the duplicated value\n",
    "# if its index in BFS is smaller than already found duplicate.\n",
    "#Note that nodes closer to the root appear earlier in BFS so they have smaller index in BFS.\n",
    "def is_duplicate(root: TreeNode) -> int:\n",
    "    output = -1\n",
    "    lst = bfs(root)\n",
    "    lst = merge_sort(lst)\n",
    "    index = len(lst)\n",
    "    for i in range(len(lst)-1):\n",
    "        if lst[i][0] == lst[i+1][0] and lst[i][1] < index:\n",
    "            output = lst[i][0]\n",
    "            index = lst[i][1]\n",
    "    return output   "
   ]
  },
  {
   "cell_type": "markdown",
   "metadata": {},
   "source": [
    "<details>\n",
    "  <summary>Question 2</summary>\n",
    "\n",
    "  # Question Two: Path to Leaves\n",
    "\n",
    "  Given the `root` of a binary tree, return all root to leaf paths in any order.\n",
    "\n",
    "  ## Examples\n",
    "\n",
    "  ### Example 1\n",
    "\n",
    "  ![](./images/q1_ex1.png)\n",
    "\n",
    "  Input: `root = [1, 2, 2, 3, 5, 6, 7]` *What traversal method is this?*\n",
    "\n",
    "  Output: [[1, 2, 3], [1, 2, 5], [1, 2, 6], [1, 2, 7]]\n",
    "\n",
    "  ### Example 2\n",
    "\n",
    "  ![](./images/q1_ex3.png)\n",
    "\n",
    "  Input: `root = [10, 9, 7, 8]`\n",
    "\n",
    "  Output: [[10, 7], [10, 9, 8]]\n",
    "\n",
    "</details>\n",
    "\n",
    "#### Starter Code for Question 2"
   ]
  },
  {
   "cell_type": "code",
   "execution_count": 3,
   "metadata": {},
   "outputs": [],
   "source": [
    "# Definition for a binary tree node.\n",
    "class TreeNode(object):\n",
    "    def __init__(self, val = 0, left = None, right = None):\n",
    "        self.val = val\n",
    "        self.left = left\n",
    "        self.right = right\n",
    "\n",
    "#The function will add the current node value to the current_path and call itself to traverse left and right paths if they exist.\n",
    "#If the current node is a leaf (i.e. there is no left and no right children), we add a copy of the current_path to the list paths.\n",
    "#Finally, we remove the current node from the current_path list as we are going back to the parent of this node.\n",
    "def traverse(node, current_path, paths):\n",
    "    current_path.append(node.val)\n",
    "    if node.left:\n",
    "        traverse(node.left, current_path, paths)\n",
    "    if node.right:\n",
    "        traverse(node.right, current_path, paths)\n",
    "    if node.left == None and node.right == None:\n",
    "        paths.append(current_path.copy())\n",
    "    current_path.pop()\n",
    "\n",
    "#The function that finds all paths from the root to a leaf. The list paths stores all such paths.\n",
    "#The current_path is representing the path from the root until the current node.\n",
    "#We call the above function to traverse the tree.\n",
    "def bt_path(root: TreeNode) -> list[list[int]]:\n",
    "    paths = []\n",
    "    current_path = []\n",
    "    if root:\n",
    "        traverse(root, current_path, paths)\n",
    "    return paths"
   ]
  },
  {
   "cell_type": "markdown",
   "metadata": {},
   "source": [
    "<details>\n",
    "  <summary>Question 3</summary>\n",
    "\n",
    "  # Question Three: Missing Number in Range\n",
    " \n",
    "  You are given a list containing `n` integers in the range `[0, n]`. Return a list of numbers that are missing from the range `[0, n]` of the array. If there is no missing number, return -1. Note, all the integers in the list may not be unique.\n",
    "  \n",
    "  ## Examples\n",
    "\n",
    "  ### Example 1\n",
    "\n",
    "  Input: `lst = [0, 2]`\n",
    "\n",
    "  Output: [1]\n",
    "\n",
    "  ### Example 2\n",
    "\n",
    "  Input: `lst = [5, 0, 1]`\n",
    "\n",
    "  Output: [2, 3, 4]\n",
    "\n",
    "  ### Example 3\n",
    "\n",
    "  Input: `lst = [6, 8, 2, 3, 5, 7, 0, 1, 10]`\n",
    "\n",
    "  Output: [4, 9]\n",
    "\n",
    "</details>\n",
    "\n",
    "#### Starter Code for Question 3\n"
   ]
  },
  {
   "cell_type": "code",
   "execution_count": 4,
   "metadata": {},
   "outputs": [],
   "source": [
    "#The merge function of given two sorted list used in the merge sort.\n",
    "def merge(lst1, lst2):\n",
    "    merged = []\n",
    "    cursor1 = 0\n",
    "    cursor2 = 0\n",
    "    while cursor1 < len(lst1) and cursor2 < len(lst2):\n",
    "        if lst1[cursor1] <= lst2[cursor2]:\n",
    "            merged.append(lst1[cursor1])\n",
    "            cursor1 += 1\n",
    "        else:\n",
    "            merged.append(lst2[cursor2])\n",
    "            cursor2 += 1\n",
    "    if cursor1 < len(lst1):\n",
    "        merged.extend(lst1[cursor1:])\n",
    "    elif cursor2 < len(lst2):\n",
    "        merged.extend(lst2[cursor2:])\n",
    "    return merged\n",
    "\n",
    "#Merge sort of a given list. We could use python sort function to sort the list using tim sort which is generally faster than merge sort, \n",
    "# but I wanted to implement everything explicitly and not use built-in functions so I used merge sort.\n",
    "def merge_sort(lst):\n",
    "    if len(lst) <= 1:\n",
    "        return lst\n",
    "    else:\n",
    "        midpoint = len(lst) // 2\n",
    "        return merge(merge_sort(lst[:midpoint]), merge_sort(lst[midpoint:]))\n",
    "\n",
    "#If the list is empty there is no missing value.\n",
    "#We first sort the given list using merge sort and store the missing values in the missings list.\n",
    "#If the smallest value (i.e. first value in sorted list) is more than 0, we add values from 0 up to but not including smallest value in missings list.\n",
    "#Then, we compare each two consecutive values in the sorted list, and if there is a gap between two consecutive values, we add them to missings list.\n",
    "def missing_num(nums: list):\n",
    "    if len(nums) == 0:\n",
    "        return -1\n",
    "    missings = []\n",
    "    nums = merge_sort(nums)\n",
    "    if nums[0] >= 1:\n",
    "        for num in range(nums[0]):\n",
    "            missings.append(num)\n",
    "    for i in range(len(nums)-1):\n",
    "        if nums[i+1] - nums[i] > 1:\n",
    "            for num in range(nums[i]+1,nums[i+1]):\n",
    "                missings.append(num)\n",
    "    if len(missings) == 0:\n",
    "        return -1\n",
    "    else:\n",
    "        return missings"
   ]
  },
  {
   "cell_type": "markdown",
   "metadata": {},
   "source": [
    "\n",
    "## Part 2:\n",
    "\n",
    "-   Paraphrase the problem in your own words\n"
   ]
  },
  {
   "cell_type": "markdown",
   "metadata": {},
   "source": [
    "> Answer: Given the root of a binary tree, we want to write a function to return a list of all paths starting from the root and ending at a leaf in any order."
   ]
  },
  {
   "cell_type": "markdown",
   "metadata": {},
   "source": [
    "- In this .ipynb file, there are examples that illustrate how the code should work (the examples provided above). Create 2 new examples for the question you have been assigned, that demonstrate you understand the problem. For question 1 and 2, you don't need to create the tree demonstration, just the input and output.\n"
   ]
  },
  {
   "cell_type": "markdown",
   "metadata": {},
   "source": [
    "> New example 1: Consider the following tree:\n",
    "\n",
    "> root = TreeNode(5)\n",
    "\n",
    "> root.left = TreeNode(0)\n",
    "\n",
    "> root.right = TreeNode(2)\n",
    "\n",
    "> root.left.left = TreeNode(1)\n",
    "\n",
    "> root.left.right = TreeNode(3)\n",
    "\n",
    "> root.right.left = TreeNode(1)\n",
    "\n",
    "> root.right.right = TreeNode(10)\n",
    "\n",
    "> root.left.right.left = TreeNode(9)\n",
    "\n",
    "> root.right.left.right = TreeNode(7)\n",
    "\n",
    "> Input: root\n",
    "\n",
    "> Output: [[5, 0, 1], [5, 0, 3, 9], [5, 2, 1, 7], [5, 2, 10]]\n",
    "\n",
    "\n",
    "> New example 2: Consider the following tree:\n",
    "\n",
    "> root = TreeNode(6)\n",
    "\n",
    "> root.left = TreeNode(1)\n",
    "\n",
    "> root.right = TreeNode(5)\n",
    "\n",
    "> root.left.left = TreeNode(10)\n",
    "\n",
    "> root.left.right = TreeNode(9)\n",
    "\n",
    "> root.left.right.left = TreeNode(0)\n",
    "\n",
    "> root.left.right.right = TreeNode(2)\n",
    "\n",
    "> Input: root\n",
    "\n",
    "> Output: [[6, 1, 10], [6, 1, 9, 0], [6, 1, 9, 2], [6, 5]]"
   ]
  },
  {
   "cell_type": "markdown",
   "metadata": {},
   "source": [
    "\n",
    "-   Code the solution to your assigned problem in Python (code chunk). Try to find the best time and space complexity solution!\n"
   ]
  },
  {
   "cell_type": "code",
   "execution_count": 5,
   "metadata": {},
   "outputs": [],
   "source": [
    "# Definition for a binary tree node.\n",
    "class TreeNode(object):\n",
    "    def __init__(self, val = 0, left = None, right = None):\n",
    "        self.val = val\n",
    "        self.left = left\n",
    "        self.right = right\n",
    "\n",
    "#The function will add the current node value to the current_path and call itself to traverse left and right paths if they exist.\n",
    "#If the current node is a leaf (i.e. there is no left and no right children), we add a copy of the current_path to the list paths.\n",
    "#Finally, we remove the current node from the current_path list as we are going back to the parent of this node.\n",
    "def traverse(node, current_path, paths):\n",
    "    current_path.append(node.val)\n",
    "    if node.left:\n",
    "        traverse(node.left, current_path, paths)\n",
    "    if node.right:\n",
    "        traverse(node.right, current_path, paths)\n",
    "    if node.left == None and node.right == None:\n",
    "        paths.append(current_path.copy())\n",
    "    current_path.pop()\n",
    "\n",
    "#The function that finds all paths from the root to a leaf. The list paths stores all such paths.\n",
    "#The current_path is representing the path from the root until the current node.\n",
    "#We call the above function to traverse the tree.\n",
    "def bt_path(root: TreeNode) -> list[list[int]]:\n",
    "    paths = []\n",
    "    current_path = []\n",
    "    if root:\n",
    "        traverse(root, current_path, paths)\n",
    "    return paths"
   ]
  },
  {
   "cell_type": "markdown",
   "metadata": {},
   "source": [
    "\n",
    "-   Explain why your solution works\n"
   ]
  },
  {
   "cell_type": "markdown",
   "metadata": {},
   "source": [
    "> Answer: We first intialize the paths list (storing all paths from the root to a leaf) and the current_path list (storing the path from the root until the current node) as empty lists. Then, we call a helper fuction called traverse with arguments root, paths and current_path. The traverse function will add the current node value to the current_path list and call itself to traverse left and right paths if they exist. If the current node is a leaf (i.e. there is no left and no right children), we add a copy of the current path (which is the path from the root to this leaf) to the paths list. Finally, we remove the current node from the current_path list as we are going back to the parent of this node. According to the explained logic, our code works well, but let's also run the given test examples above:"
   ]
  },
  {
   "cell_type": "code",
   "execution_count": 6,
   "metadata": {},
   "outputs": [
    {
     "data": {
      "text/plain": [
       "[[1, 2, 3], [1, 2, 5], [1, 2, 6], [1, 2, 7]]"
      ]
     },
     "execution_count": 6,
     "metadata": {},
     "output_type": "execute_result"
    }
   ],
   "source": [
    "root = TreeNode(1)\n",
    "root.left = TreeNode(2)\n",
    "root.right = TreeNode(2)\n",
    "root.left.left = TreeNode(3)\n",
    "root.left.right = TreeNode(5)\n",
    "root.right.left = TreeNode(6)\n",
    "root.right.right = TreeNode(7)\n",
    "\n",
    "bt_path(root)"
   ]
  },
  {
   "cell_type": "code",
   "execution_count": 7,
   "metadata": {},
   "outputs": [
    {
     "data": {
      "text/plain": [
       "[[10, 9, 8], [10, 7]]"
      ]
     },
     "execution_count": 7,
     "metadata": {},
     "output_type": "execute_result"
    }
   ],
   "source": [
    "root = TreeNode(10)\n",
    "root.left = TreeNode(9)\n",
    "root.right = TreeNode(7)\n",
    "root.left.left = TreeNode(8)\n",
    "\n",
    "bt_path(root)"
   ]
  },
  {
   "cell_type": "markdown",
   "metadata": {},
   "source": [
    "\n",
    "-   Explain the problem’s time and space complexity\n"
   ]
  },
  {
   "cell_type": "markdown",
   "metadata": {},
   "source": [
    "> Answer: Let \"n\" be the number of nodes, \"d\" be the maximum depth, and \"l\" be the number of leaves in the given tree. Our output (i.e. paths) is a list of \"l\" lists of maximum size \"d\" each. Because for each leaf, we have a path with maximum length equals to the depth \"d\". So, our output is a list of lists containing maximum \"l*d\" integers. To add each of these integers to our output, we need at least one operation and one space in our memory to store it. In conclusion, our time and space complexity are both at least O(ld). Below we will check, if they are exactly O(ld) or more. Before that let's find a relationship between \"n\", \"d\", and \"l\". For an approximately balenced binary tree, we have that \"d\" is approximately \"log(n)\" and \"l\" is approximately \"n/2\". So for an approximately balenced binary tree, we have that O(ld) is the same as O(nlog(n)). For the other extreme case when the tree is linear, we have only one leaf and the depth \"d\" is the same as \"n\", and hence, O(ld) is the same as O(n). We conclude that O(ld) is betweeen O(n) and O(nlog(n)).\n",
    "\n",
    "> Space Complexity: Our call stack and current_path list will both have size of maximum depth of the tree, \"d\", so they are O(d), which is not more that O(ld). So, we conclude that our space complexity is O(ld).\n",
    "\n",
    "> Time Complexity: We visit each \"n\" nodes of the tree once and we do constant O(1) operations for each node like appending to or poping from current_path list except for the leaf nodes that we copy the current_path in our output list, paths. This last operation (done only for \"l\" leaves) is O(len(current_path)) which is O(d) in the worst case. So, we see that our time complexity is O(n + ld). Using the above explanation that O(ld) is betweeen O(n) and O(nlog(n)), we can say that O(ld) is greater or equal than O(n) and hence O(n + ld) = O(ld).\n",
    "\n",
    "> Conclusion: Both of our space and time complexities are O(ld) which is O(nlog(n)) in the worst case scenario and is O(n) in the best case scenario. This also proves that our algorithm is the best time and space complexity solution becasue our output is O(ld) and no algorithm can create this output in less time or sapce than O(ld)."
   ]
  },
  {
   "cell_type": "markdown",
   "metadata": {},
   "source": [
    "\n",
    "-   Explain the thinking to an alternative solution (no coding required, but a classmate reading this should be able to code it up based off your text)\n"
   ]
  },
  {
   "cell_type": "markdown",
   "metadata": {},
   "source": [
    "> Answer: In my opinion, my suggested solution is the easiest and the best time and space complexity solution. But just to answer this question, let me suggest an alternative solution, which is not as good as my solution.\n",
    "\n",
    "> Alternative Solution: We can add one extra attribute \"self.parent\" to the class TreeNode. This attribute allows us to access the parent node from its children and traverse the tree upward. Then starting from the root node of the tree, we recursively visit the current node's children until we reach leaves (nodes with no children), and we create a list of all leaves of the tree. Then we iterate over this list of all leaves, and we use parent attribute recursively until we reach the root (the unique node with no parent) to create and store the paths from roots to leaves. "
   ]
  },
  {
   "cell_type": "markdown",
   "metadata": {},
   "source": [
    "## Evaluation Criteria\n",
    "\n",
    "-   Problem is accurately stated\n",
    "\n",
    "-   Two examples are correct and easily understandable\n",
    "\n",
    "-   Correctness, time, and space complexity of the coding solution\n",
    "\n",
    "-   Clarity in explaining why the solution works, its time and space complexity\n",
    "\n",
    "-   Clarity in the proposal to the alternative solution"
   ]
  },
  {
   "cell_type": "markdown",
   "metadata": {},
   "source": [
    "## Submission Information\n",
    "\n",
    "🚨 **Please review our [Assignment Submission Guide](https://github.com/UofT-DSI/onboarding/blob/main/onboarding_documents/submissions.md)** 🚨 for detailed instructions on how to format, branch, and submit your work. Following these guidelines is crucial for your submissions to be evaluated correctly.\n",
    "\n",
    "### Submission Parameters:\n",
    "* Submission Due Date: `HH:MM AM/PM - DD/MM/YYYY`\n",
    "* The branch name for your repo should be: `assignment-1`\n",
    "* What to submit for this assignment:\n",
    "    * This Jupyter Notebook (assignment_1.ipynb) should be populated and should be the only change in your pull request.\n",
    "* What the pull request link should look like for this assignment: `https://github.com/<your_github_username>/algorithms_and_data_structures/pull/<pr_id>`\n",
    "    * Open a private window in your browser. Copy and paste the link to your pull request into the address bar. Make sure you can see your pull request properly. This helps the technical facilitator and learning support staff review your submission easily.\n",
    "\n",
    "Checklist:\n",
    "- [ ] Create a branch called `assignment-1`.\n",
    "- [ ] Ensure that the repository is public.\n",
    "- [ ] Review [the PR description guidelines](https://github.com/UofT-DSI/onboarding/blob/main/onboarding_documents/submissions.md#guidelines-for-pull-request-descriptions) and adhere to them.\n",
    "- [ ] Verify that the link is accessible in a private browser window.\n",
    "\n",
    "If you encounter any difficulties or have questions, please don't hesitate to reach out to our team via our Slack at `#cohort-3-help`. Our Technical Facilitators and Learning Support staff are here to help you navigate any challenges."
   ]
  }
 ],
 "metadata": {
  "kernelspec": {
   "display_name": "dsi_participant",
   "language": "python",
   "name": "python3"
  },
  "language_info": {
   "codemirror_mode": {
    "name": "ipython",
    "version": 3
   },
   "file_extension": ".py",
   "mimetype": "text/x-python",
   "name": "python",
   "nbconvert_exporter": "python",
   "pygments_lexer": "ipython3",
   "version": "3.9.15"
  }
 },
 "nbformat": 4,
 "nbformat_minor": 2
}
