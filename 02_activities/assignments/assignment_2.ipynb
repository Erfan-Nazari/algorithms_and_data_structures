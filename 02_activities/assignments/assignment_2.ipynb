{
 "cells": [
  {
   "cell_type": "markdown",
   "metadata": {},
   "source": [
    "# Practice Interview\n",
    "\n",
    "## Objective\n",
    "\n",
    "_*The partner assignment aims to provide participants with the opportunity to practice coding in an interview context. You will analyze your partner's Assignment 1. Moreover, code reviews are common practice in a software development team. This assignment should give you a taste of the code review process.*_\n",
    "\n",
    "## Group Size\n",
    "\n",
    "Each group should have 2 people. You will be assigned a partner\n",
    "\n",
    "## Part 1:\n",
    "\n",
    "You and your partner must share each other's Assignment 1 submission."
   ]
  },
  {
   "cell_type": "markdown",
   "metadata": {},
   "source": [
    "> My partner's assignment: https://github.com/mehran-hnz/algorithms_and_data_structures/pulls "
   ]
  },
  {
   "cell_type": "markdown",
   "metadata": {},
   "source": [
    "\n",
    "## Part 2:\n",
    "\n",
    "Create a Jupyter Notebook, create 6 of the following headings, and complete the following for your partner's assignment 1:\n",
    "\n",
    "-   Paraphrase the problem in your own words.\n"
   ]
  },
  {
   "cell_type": "markdown",
   "metadata": {},
   "source": [
    "> Answer: The input is a list of size \"m\" of non-negative integers (not necessarily distinct) in the interval [0,n], where \"n\" is the maximum number in the list (note that there is a typo in the statement of the question and \"m\" and \"n\" are not the same integers). The output should be the list of missing integers i.e. the integers which are in the interval [0,n] but not in the given list. If there is no missing integer, the output should be -1."
   ]
  },
  {
   "cell_type": "markdown",
   "metadata": {},
   "source": [
    "\n",
    "-   Create 1 new example that demonstrates you understand the problem. Trace/walkthrough 1 example that your partner made and explain it.\n"
   ]
  },
  {
   "cell_type": "markdown",
   "metadata": {},
   "source": [
    "> My new example:   Input: [5, 2, 7, 4, 2]   Output: [0,1,3,6]\n",
    "\n",
    "> Walkthrough of one of my partner's example (Input: lst = [4, 2, 7, 5] Output: [0, 1, 3, 6]):\n",
    "\n",
    "> Maximum integer in the input list, \"lst\" is 7. So, we should create a list of all missing integers in the interval [0,7]. We find out that 0, 1, 3, and 6 are missing as the input lst contains 2, 4, 5, and 7. So, the output is [0, 1, 3, 6]."
   ]
  },
  {
   "cell_type": "markdown",
   "metadata": {},
   "source": [
    "\n",
    "-   Copy the solution your partner wrote. \n"
   ]
  },
  {
   "cell_type": "code",
   "execution_count": 1,
   "metadata": {},
   "outputs": [
    {
     "name": "stdout",
     "output_type": "stream",
     "text": [
      "[1]\n",
      "[2, 3, 4]\n",
      "[4, 9]\n",
      "[0, 1, 3, 6]\n",
      "[0, 1, 3, 4, 6, 7, 8, 9, 10, 11]\n",
      "-1\n",
      "[0]\n"
     ]
    }
   ],
   "source": [
    "def missing_num(nums):\n",
    "    # If the list is empty, the only missing number in the range [0, 0] is 0 itself\n",
    "    if not nums:\n",
    "        return [0]\n",
    "    \n",
    "    # Find the maximum number to determine the range (upper bound 'n')\n",
    "    n = max(nums)\n",
    "    \n",
    "    # Create a list to track which numbers are present in the input list\n",
    "    # Initialize all as False (missing)\n",
    "    present = [False] * (n + 1)\n",
    "    \n",
    "    # Check and mark the numbers that are present in the input list\n",
    "    for num in nums:\n",
    "        if 0 <= num <= n:\n",
    "            present[num] = True   # Mark as present\n",
    "    \n",
    "    # Iterate through the range [0, n] and collect all numbers that are not marked as present\n",
    "    missing = []\n",
    "    for i in range(n + 1):\n",
    "        if not present[i]:\n",
    "            missing.append(i)\n",
    "    \n",
    "    # Returns the missing numbers list , if no numbers are missing, return -1\n",
    "    return missing if missing else -1\n",
    "\n",
    "# Example Run:\n",
    "print(missing_num([0, 2]))                        # Output: [1]\n",
    "print(missing_num([5, 0, 1]))                     # Output: [2, 3, 4]\n",
    "print(missing_num([6, 8, 2, 3, 5, 7, 0, 1, 10]))  # Output: [4, 9]\n",
    "print(missing_num([4, 2, 7, 5]))                  # Output: [0, 1, 3, 6]\n",
    "print(missing_num([2, 12, 5]))                    # Output: [0, 1, 3, 4, 6, 7, 8, 9, 10, 11]\n",
    "print(missing_num([0, 1, 2, 3]))                  # Output: -1\n",
    "print(missing_num([]))                            # Output: [0]"
   ]
  },
  {
   "cell_type": "markdown",
   "metadata": {},
   "source": [
    "\n",
    "-   Explain why their solution works in your own words.\n"
   ]
  },
  {
   "cell_type": "markdown",
   "metadata": {},
   "source": [
    "> Answer: The logic of his solution is clear and straightforward. First. he find the maximum number in the input list and call it \"n\". So, we want to find missing integers from the interval [0,n]. He first label all integers in this interval as missing. To do this, he creates a list of size \"n+1\" and calls it \"present\" and intializes it with \"False\" for all n+1 entries. Basically, present[i] is a label mentioning if the number i is present in the input list or not. Then, he checks the entries in the input list one by one and change their correspoding label in the \"present\" list as \"True\". When we traverse the input list once, the label list, \"present\", is updated correctly. Finally, he creates an empty list called \"missing\" and adds every integer \"i\" in the interval [0,n] that its present lable is false (i.e. present[i] == False) to the missing list. Then, he returns this \"missing\" list as the output if it not empty. If it is empty, he returns -1. In summary:\n",
    "\n",
    "> Step 1: Find the maximum number, \"n\", in the input list.\n",
    "\n",
    "> Step 2: Traverse the input list and label each integer in the interval [0,n] as present or not.\n",
    "\n",
    "> Step 3: Return the missing integers as the ouptput."
   ]
  },
  {
   "cell_type": "markdown",
   "metadata": {},
   "source": [
    "\n",
    "-   Explain the problem’s time and space complexity in your own words.\n"
   ]
  },
  {
   "cell_type": "markdown",
   "metadata": {},
   "source": [
    "> Answer: Let \"m\" be the size of input list and \"n\" be the maximum integer in the input list. Finding the maximum integer in the input list needs time complexity O(m) and space complexity O(1). Creating and initializing the \"present\" list needs both time and space complexity O(n). Updating the \"present\" list by traversing the input list needs oth time complexity O(m) and space complexity O(1). Finally, creating the \"missing\" list as our output needs both time and space complexity O(n) in the worst case scenario. The conclusion is that the time complexity is O(max{m,n}) and the space complexity is O(n).\n",
    "\n",
    "> Note that it is possible that \"m\" is much larger than \"n\" or vice versa. So, we need to keep max{m,n} in the time complexity as it is and we can't replace it with either \"m\" or \"n\". For example, the input can be a list of size one billion but all entries be 1 (in this example, m is one billion, but n is 1). On the other hand, the input can be a list of size 1 containing the integer one billion (in this example, m is 1, but n is one billion)."
   ]
  },
  {
   "cell_type": "markdown",
   "metadata": {},
   "source": [
    "\n",
    "-   Critique your partner's solution, including explanation, and if there is anything that should be adjusted.\n"
   ]
  },
  {
   "cell_type": "markdown",
   "metadata": {},
   "source": [
    "> My partner's solution is very good. It is clear, straightforward, and the best time and space solution. He also supported his solution with enough comments and explanation, to make it easy to understand. One area of improvement is to be more careful and distinguish between the size of the given input list and the maximum integer in the input list. They are two completely independent numbers and they can be very different from each other (For example, the input can be a list of size one billion but all entries be 1, and hence size is one billion and maximum is 1. On the other hand, the input can be a list of size 1 containing the integer one billion, and hence size is 1 and maximum is one billion.). He treated them as almost the same integer in all over his solution including the explanation and the computation of time and space complexities."
   ]
  },
  {
   "cell_type": "markdown",
   "metadata": {},
   "source": [
    "\n",
    "## Part 3:\n",
    "\n",
    "Please write a 200 word reflection documenting your process from assignment 1, and your presentation and review experience with your partner at the bottom of the Jupyter Notebook under a new heading \"Reflection.\" Again, export this Notebook as pdf.\n"
   ]
  },
  {
   "cell_type": "markdown",
   "metadata": {},
   "source": [
    "### Reflection"
   ]
  },
  {
   "cell_type": "markdown",
   "metadata": {},
   "source": [
    "> In the assignment 1, we needed to understand a given problem, create some sample examples of the problem, come up with an algorithm to solve the problem, try to improve our algorithm to ideally find the best time and space complexity solution, implement our algorithm in a code and support it with comments, explain the logic of our algorithm and why it works, test our solution on some sample examples, compute and explain our algorithm's time and space complexities, and finally thinking and proposing an alternative solution to the problem. This was a good practice for the foundations of data structure, algorithms, complexity, and leetcode kind of questions that you are expecting in the job interviews. In summary, experiencing the role of an interviewee.\n",
    "\n",
    "> In the assignment 2, we needed to understand our partner's problem, create and walkthrough some sample examples of the problem, read and understand our partner's implemented algorithm, explain the logic of suggested solution and why it works, compute and explain the suggested algorithm's time and space complexities, and finally criticizing our partner's solution and the presentation and mentioning mistakes or the possible area of improvements. In summary, experiencing the role of an interviewer.\n",
    "\n",
    "> The two assignments together were a good practice to experience different aspects of a technical interview."
   ]
  },
  {
   "cell_type": "markdown",
   "metadata": {},
   "source": [
    "\n",
    "## Evaluation Criteria\n",
    "\n",
    "We are looking for the similar points as Assignment 1\n",
    "\n",
    "-   Problem is accurately stated\n",
    "\n",
    "-   New example is correct and easily understandable\n",
    "\n",
    "-   Correctness, time, and space complexity of the coding solution\n",
    "\n",
    "-   Clarity in explaining why the solution works, its time and space complexity\n",
    "\n",
    "-   Quality of critique of your partner's assignment, if necessary\n"
   ]
  },
  {
   "cell_type": "markdown",
   "metadata": {},
   "source": [
    "## Submission Information\n",
    "\n",
    "🚨 **Please review our [Assignment Submission Guide](https://github.com/UofT-DSI/onboarding/blob/main/onboarding_documents/submissions.md)** 🚨 for detailed instructions on how to format, branch, and submit your work. Following these guidelines is crucial for your submissions to be evaluated correctly.\n",
    "\n",
    "### Submission Parameters:\n",
    "* Submission Due Date: `HH:MM AM/PM - DD/MM/YYYY`\n",
    "* The branch name for your repo should be: `assignment-2`\n",
    "* What to submit for this assignment:\n",
    "    * This Jupyter Notebook (assignment_2.ipynb) should be populated and should be the only change in your pull request.\n",
    "* What the pull request link should look like for this assignment: `https://github.com/<your_github_username>/algorithms_and_data_structures/pull/<pr_id>`\n",
    "    * Open a private window in your browser. Copy and paste the link to your pull request into the address bar. Make sure you can see your pull request properly. This helps the technical facilitator and learning support staff review your submission easily.\n",
    "\n",
    "Checklist:\n",
    "- [ ] Created a branch with the correct naming convention.\n",
    "- [ ] Ensured that the repository is public.\n",
    "- [ ] Reviewed the PR description guidelines and adhered to them.\n",
    "- [ ] Verify that the link is accessible in a private browser window.\n",
    "\n",
    "If you encounter any difficulties or have questions, please don't hesitate to reach out to our team via our Slack at `#cohort-3-help`. Our Technical Facilitators and Learning Support staff are here to help you navigate any challenges.\n"
   ]
  }
 ],
 "metadata": {
  "kernelspec": {
   "display_name": "dsi_participant",
   "language": "python",
   "name": "python3"
  },
  "language_info": {
   "codemirror_mode": {
    "name": "ipython",
    "version": 3
   },
   "file_extension": ".py",
   "mimetype": "text/x-python",
   "name": "python",
   "nbconvert_exporter": "python",
   "pygments_lexer": "ipython3",
   "version": "3.9.15"
  }
 },
 "nbformat": 4,
 "nbformat_minor": 2
}
